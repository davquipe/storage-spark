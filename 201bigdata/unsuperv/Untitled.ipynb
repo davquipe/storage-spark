{
 "cells": [
  {
   "cell_type": "code",
   "execution_count": 38,
   "metadata": {},
   "outputs": [
    {
     "data": {
      "text/plain": [
       "[Row(Num=1, Depart=2, Imentorn=7.63, Imgastron=7.63, Imcostviaje=8.47, Imvidanoct=11.06, Imalojamien=3.39, Imarte=61.02, Compa=4, Motivo=3, Destino=1, Estancia=6, Sexo=1),\n",
       " Row(Num=2, Depart=1, Imentorn=30.2, Imgastron=4.5, Imcostviaje=3.25, Imvidanoct=18.05, Imalojamien=13.53, Imarte=11.28, Compa=2, Motivo=3, Destino=2, Estancia=4, Sexo=2),\n",
       " Row(Num=3, Depart=4, Imentorn=22.72, Imgastron=6.32, Imcostviaje=46.18, Imvidanoct=21.52, Imalojamien=10.76, Imarte=25.32, Compa=4, Motivo=3, Destino=2, Estancia=4, Sexo=2),\n",
       " Row(Num=4, Depart=1, Imentorn=20.63, Imgastron=3.32, Imcostviaje=25.68, Imvidanoct=19.81, Imalojamien=0.0, Imarte=8.49, Compa=4, Motivo=3, Destino=1, Estancia=1, Sexo=1),\n",
       " Row(Num=5, Depart=4, Imentorn=40.91, Imgastron=6.11, Imcostviaje=7.37, Imvidanoct=4.31, Imalojamien=6.42, Imarte=27.27, Compa=4, Motivo=4, Destino=1, Estancia=3, Sexo=1),\n",
       " Row(Num=6, Depart=1, Imentorn=7.38, Imgastron=1.17, Imcostviaje=16.23, Imvidanoct=60.12, Imalojamien=4.23, Imarte=12.5, Compa=4, Motivo=6, Destino=1, Estancia=3, Sexo=1),\n",
       " Row(Num=7, Depart=1, Imentorn=2.85, Imgastron=14.88, Imcostviaje=36.21, Imvidanoct=3.15, Imalojamien=7.23, Imarte=8.06, Compa=1, Motivo=3, Destino=2, Estancia=6, Sexo=2),\n",
       " Row(Num=8, Depart=1, Imentorn=11.19, Imgastron=16.13, Imcostviaje=34.59, Imvidanoct=11.01, Imalojamien=2.75, Imarte=18.35, Compa=3, Motivo=1, Destino=2, Estancia=4, Sexo=2),\n",
       " Row(Num=9, Depart=1, Imentorn=7.2, Imgastron=0.67, Imcostviaje=14.0, Imvidanoct=22.3, Imalojamien=6.47, Imarte=21.58, Compa=3, Motivo=3, Destino=2, Estancia=4, Sexo=2),\n",
       " Row(Num=10, Depart=1, Imentorn=2.3, Imgastron=7.8, Imcostviaje=45.36, Imvidanoct=17.31, Imalojamien=8.33, Imarte=22.44, Compa=4, Motivo=1, Destino=3, Estancia=5, Sexo=1),\n",
       " Row(Num=11, Depart=1, Imentorn=4.8, Imgastron=10.4, Imcostviaje=10.9, Imvidanoct=10.17, Imalojamien=3.39, Imarte=56.78, Compa=1, Motivo=4, Destino=2, Estancia=5, Sexo=2),\n",
       " Row(Num=12, Depart=1, Imentorn=14.19, Imgastron=25.0, Imcostviaje=27.7, Imvidanoct=3.38, Imalojamien=6.76, Imarte=22.97, Compa=4, Motivo=5, Destino=3, Estancia=1, Sexo=2),\n",
       " Row(Num=13, Depart=4, Imentorn=40.28, Imgastron=8.33, Imcostviaje=14.58, Imvidanoct=15.97, Imalojamien=11.81, Imarte=9.03, Compa=4, Motivo=2, Destino=1, Estancia=5, Sexo=2),\n",
       " Row(Num=14, Depart=4, Imentorn=28.76, Imgastron=17.65, Imcostviaje=25.49, Imvidanoct=6.54, Imalojamien=5.88, Imarte=15.69, Compa=4, Motivo=5, Destino=2, Estancia=3, Sexo=2),\n",
       " Row(Num=15, Depart=4, Imentorn=13.33, Imgastron=16.67, Imcostviaje=9.33, Imvidanoct=34.0, Imalojamien=8.67, Imarte=18.0, Compa=2, Motivo=5, Destino=2, Estancia=1, Sexo=2),\n",
       " Row(Num=17, Depart=1, Imentorn=13.01, Imgastron=3.25, Imcostviaje=3.25, Imvidanoct=56.91, Imalojamien=7.32, Imarte=16.26, Compa=1, Motivo=3, Destino=1, Estancia=5, Sexo=1),\n",
       " Row(Num=18, Depart=1, Imentorn=64.86, Imgastron=5.41, Imcostviaje=18.02, Imvidanoct=4.5, Imalojamien=3.6, Imarte=3.6, Compa=3, Motivo=5, Destino=1, Estancia=5, Sexo=2),\n",
       " Row(Num=19, Depart=1, Imentorn=6.14, Imgastron=7.02, Imcostviaje=10.53, Imvidanoct=63.16, Imalojamien=3.51, Imarte=9.65, Compa=3, Motivo=3, Destino=1, Estancia=6, Sexo=1),\n",
       " Row(Num=20, Depart=1, Imentorn=11.18, Imgastron=3.29, Imcostviaje=21.71, Imvidanoct=26.32, Imalojamien=13.16, Imarte=24.34, Compa=4, Motivo=3, Destino=2, Estancia=4, Sexo=2),\n",
       " Row(Num=21, Depart=1, Imentorn=56.45, Imgastron=4.03, Imcostviaje=10.48, Imvidanoct=14.52, Imalojamien=8.06, Imarte=6.45, Compa=4, Motivo=3, Destino=2, Estancia=3, Sexo=1),\n",
       " Row(Num=22, Depart=1, Imentorn=14.77, Imgastron=11.41, Imcostviaje=11.41, Imvidanoct=8.72, Imalojamien=20.13, Imarte=33.56, Compa=3, Motivo=5, Destino=3, Estancia=2, Sexo=2),\n",
       " Row(Num=23, Depart=1, Imentorn=25.19, Imgastron=6.87, Imcostviaje=45.56, Imvidanoct=3.82, Imalojamien=9.92, Imarte=7.63, Compa=4, Motivo=2, Destino=1, Estancia=4, Sexo=2),\n",
       " Row(Num=24, Depart=1, Imentorn=44.0, Imgastron=5.6, Imcostviaje=15.2, Imvidanoct=4.0, Imalojamien=12.0, Imarte=19.2, Compa=4, Motivo=3, Destino=2, Estancia=5, Sexo=2),\n",
       " Row(Num=25, Depart=1, Imentorn=11.19, Imgastron=6.99, Imcostviaje=33.57, Imvidanoct=36.36, Imalojamien=4.2, Imarte=7.69, Compa=3, Motivo=5, Destino=2, Estancia=4, Sexo=2),\n",
       " Row(Num=26, Depart=4, Imentorn=43.2, Imgastron=9.6, Imcostviaje=5.6, Imvidanoct=28.0, Imalojamien=8.8, Imarte=4.8, Compa=3, Motivo=5, Destino=2, Estancia=1, Sexo=2),\n",
       " Row(Num=27, Depart=1, Imentorn=64.29, Imgastron=19.64, Imcostviaje=1.79, Imvidanoct=2.68, Imalojamien=5.36, Imarte=6.25, Compa=4, Motivo=5, Destino=1, Estancia=3, Sexo=2),\n",
       " Row(Num=29, Depart=1, Imentorn=7.09, Imgastron=4.26, Imcostviaje=24.11, Imvidanoct=43.97, Imalojamien=10.64, Imarte=9.93, Compa=2, Motivo=5, Destino=2, Estancia=3, Sexo=1),\n",
       " Row(Num=30, Depart=2, Imentorn=22.3, Imgastron=8.63, Imcostviaje=35.25, Imvidanoct=3.6, Imalojamien=19.42, Imarte=10.79, Compa=1, Motivo=2, Destino=2, Estancia=5, Sexo=1),\n",
       " Row(Num=31, Depart=1, Imentorn=61.02, Imgastron=11.02, Imcostviaje=4.24, Imvidanoct=13.56, Imalojamien=4.24, Imarte=5.93, Compa=3, Motivo=3, Destino=1, Estancia=4, Sexo=1),\n",
       " Row(Num=16, Depart=4, Imentorn=1.85, Imgastron=2.78, Imcostviaje=66.67, Imvidanoct=1.85, Imalojamien=22.22, Imarte=4.63, Compa=2, Motivo=3, Destino=1, Estancia=3, Sexo=2),\n",
       " Row(Num=28, Depart=4, Imentorn=23.3, Imgastron=1.94, Imcostviaje=2.91, Imvidanoct=0.0, Imalojamien=69.9, Imarte=1.94, Compa=3, Motivo=5, Destino=1, Estancia=1, Sexo=2)]"
      ]
     },
     "execution_count": 38,
     "metadata": {},
     "output_type": "execute_result"
    }
   ],
   "source": [
    "df = sqlContext.read.format('csv').options(header='true', inferschema='true')\\\n",
    "    .load('../TurismoV2.csv')\n",
    "df.collect()"
   ]
  },
  {
   "cell_type": "code",
   "execution_count": 39,
   "metadata": {},
   "outputs": [],
   "source": [
    "#1. Preparación de datos\n",
    "# Feature selection\n",
    "fea=['Imentorn','Imgastron','Imcostviaje','Imvidanoct','Imalojamien','Imarte']\n",
    "\n",
    "df2=df.select(fea)\n",
    "#df2.show()"
   ]
  },
  {
   "cell_type": "code",
   "execution_count": 40,
   "metadata": {},
   "outputs": [
    {
     "name": "stdout",
     "output_type": "stream",
     "text": [
      "+--------+---------+-----------+----------+-----------+------+--------------------+\n",
      "|Imentorn|Imgastron|Imcostviaje|Imvidanoct|Imalojamien|Imarte|            features|\n",
      "+--------+---------+-----------+----------+-----------+------+--------------------+\n",
      "|    7.63|     7.63|       8.47|     11.06|       3.39| 61.02|[7.63,7.63,8.47,1...|\n",
      "|    30.2|      4.5|       3.25|     18.05|      13.53| 11.28|[30.2,4.5,3.25,18...|\n",
      "|   22.72|     6.32|      46.18|     21.52|      10.76| 25.32|[22.72,6.32,46.18...|\n",
      "|   20.63|     3.32|      25.68|     19.81|        0.0|  8.49|[20.63,3.32,25.68...|\n",
      "|   40.91|     6.11|       7.37|      4.31|       6.42| 27.27|[40.91,6.11,7.37,...|\n",
      "|    7.38|     1.17|      16.23|     60.12|       4.23|  12.5|[7.38,1.17,16.23,...|\n",
      "|    2.85|    14.88|      36.21|      3.15|       7.23|  8.06|[2.85,14.88,36.21...|\n",
      "|   11.19|    16.13|      34.59|     11.01|       2.75| 18.35|[11.19,16.13,34.5...|\n",
      "|     7.2|     0.67|       14.0|      22.3|       6.47| 21.58|[7.2,0.67,14.0,22...|\n",
      "|     2.3|      7.8|      45.36|     17.31|       8.33| 22.44|[2.3,7.8,45.36,17...|\n",
      "|     4.8|     10.4|       10.9|     10.17|       3.39| 56.78|[4.8,10.4,10.9,10...|\n",
      "|   14.19|     25.0|       27.7|      3.38|       6.76| 22.97|[14.19,25.0,27.7,...|\n",
      "|   40.28|     8.33|      14.58|     15.97|      11.81|  9.03|[40.28,8.33,14.58...|\n",
      "|   28.76|    17.65|      25.49|      6.54|       5.88| 15.69|[28.76,17.65,25.4...|\n",
      "|   13.33|    16.67|       9.33|      34.0|       8.67|  18.0|[13.33,16.67,9.33...|\n",
      "|   13.01|     3.25|       3.25|     56.91|       7.32| 16.26|[13.01,3.25,3.25,...|\n",
      "|   64.86|     5.41|      18.02|       4.5|        3.6|   3.6|[64.86,5.41,18.02...|\n",
      "|    6.14|     7.02|      10.53|     63.16|       3.51|  9.65|[6.14,7.02,10.53,...|\n",
      "|   11.18|     3.29|      21.71|     26.32|      13.16| 24.34|[11.18,3.29,21.71...|\n",
      "|   56.45|     4.03|      10.48|     14.52|       8.06|  6.45|[56.45,4.03,10.48...|\n",
      "+--------+---------+-----------+----------+-----------+------+--------------------+\n",
      "only showing top 20 rows\n",
      "\n"
     ]
    }
   ],
   "source": [
    "from pyspark.ml.feature import VectorAssembler\n",
    "featureAssembler = VectorAssembler(inputCols=fea, outputCol=\"features\") #indexedFeatures\n",
    "\n",
    "#solo para mostrar\n",
    "dfa = featureAssembler.transform(df2) # this will add to the table outputCol column with vectors.\n",
    "dfa.show()"
   ]
  },
  {
   "cell_type": "code",
   "execution_count": 41,
   "metadata": {},
   "outputs": [],
   "source": [
    "from numpy import array\n",
    "import numpy as np\n",
    "from math import sqrt\n",
    "import matplotlib.pyplot as plt\n",
    "%matplotlib inline\n",
    "\n",
    "import seaborn as sns\n",
    "import pandas as pd\n"
   ]
  },
  {
   "cell_type": "code",
   "execution_count": 42,
   "metadata": {},
   "outputs": [
    {
     "data": {
      "text/plain": [
       "<seaborn.axisgrid.FacetGrid at 0x1bc2e769348>"
      ]
     },
     "execution_count": 42,
     "metadata": {},
     "output_type": "execute_result"
    },
    {
     "data": {
      "image/png": "[encoded data removed]",
      "text/plain": [
       "<Figure size 360x360 with 1 Axes>"
      ]
     },
     "metadata": {
      "needs_background": "light"
     },
     "output_type": "display_data"
    }
   ],
   "source": [
    "sns.lmplot(x='Imgastron',y='Imcostviaje',data=df2.toPandas(),fit_reg=False,legend=True,scatter_kws={\"s\":80}) #,hue='Fisica'"
   ]
  },
  {
   "cell_type": "code",
   "execution_count": 20,
   "metadata": {},
   "outputs": [],
   "source": [
    "#from pyspark.ml import Pipeline"
   ]
  },
  {
   "cell_type": "code",
   "execution_count": 43,
   "metadata": {},
   "outputs": [
    {
     "name": "stdout",
     "output_type": "stream",
     "text": [
      "Training Dataset Count: 21\n",
      "Test Dataset Count: 10\n"
     ]
    }
   ],
   "source": [
    "#3 distribucion de los datos\n",
    "# set seed for reproducibility\n",
    "(trainingData, testData) = dfa.randomSplit([0.7, 0.3], seed = 100)\n",
    "print(\"Training Dataset Count: \" + str(trainingData.count()))\n",
    "print(\"Test Dataset Count: \" + str(testData.count()))"
   ]
  },
  {
   "cell_type": "code",
   "execution_count": 59,
   "metadata": {},
   "outputs": [],
   "source": [
    "#4. Modelamiento (con un modelo ML)\n",
    "# Fit KMans Model\n",
    "from pyspark.ml.clustering import KMeans\n",
    "from pyspark.ml.evaluation import ClusteringEvaluator\n",
    "\n",
    "# Instancia model\n",
    "#dTree = DecisionTreeClassifier(labelCol='indexedLabel', featuresCol='indexedFeatures')\n",
    "kmeans = KMeans().setK(4).setSeed(1)\n",
    "model = kmeans.fit(trainingData.select('features')) # train kmeans model"
   ]
  },
  {
   "cell_type": "code",
   "execution_count": 60,
   "metadata": {},
   "outputs": [
    {
     "data": {
      "text/plain": [
       "array([[ 8.73      , 12.02333333, 17.53333333, 11.95      ,  5.54      ,\n",
       "        33.77666667],\n",
       "       [51.14428571,  8.43428571,  8.53285714, 10.51285714,  7.57428571,\n",
       "         9.97285714],\n",
       "       [11.155     ,  7.7925    , 17.565     , 42.81      ,  7.7075    ,\n",
       "        12.97      ],\n",
       "       [12.33      ,  8.63      , 41.33142857,  8.65      ,  9.98142857,\n",
       "        11.48428571]])"
      ]
     },
     "execution_count": 60,
     "metadata": {},
     "output_type": "execute_result"
    }
   ],
   "source": [
    "# Shows the result.\n",
    "centers = model.clusterCenters()\n",
    "centers = np.array([ arr for arr in centers])\n",
    "centers"
   ]
  },
  {
   "cell_type": "code",
   "execution_count": 61,
   "metadata": {},
   "outputs": [
    {
     "data": {
      "text/html": [
       "<div>\n",
       "<style scoped>\n",
       "    .dataframe tbody tr th:only-of-type {\n",
       "        vertical-align: middle;\n",
       "    }\n",
       "\n",
       "    .dataframe tbody tr th {\n",
       "        vertical-align: top;\n",
       "    }\n",
       "\n",
       "    .dataframe thead tr th {\n",
       "        text-align: left;\n",
       "    }\n",
       "\n",
       "    .dataframe thead tr:last-of-type th {\n",
       "        text-align: right;\n",
       "    }\n",
       "</style>\n",
       "<table border=\"1\" class=\"dataframe\">\n",
       "  <thead>\n",
       "    <tr>\n",
       "      <th></th>\n",
       "      <th colspan=\"4\" halign=\"left\">Cluster #</th>\n",
       "    </tr>\n",
       "    <tr>\n",
       "      <th></th>\n",
       "      <th>0</th>\n",
       "      <th>1</th>\n",
       "      <th>2</th>\n",
       "      <th>3</th>\n",
       "    </tr>\n",
       "    <tr>\n",
       "      <th>Attribute</th>\n",
       "      <th></th>\n",
       "      <th></th>\n",
       "      <th></th>\n",
       "      <th></th>\n",
       "    </tr>\n",
       "  </thead>\n",
       "  <tbody>\n",
       "    <tr>\n",
       "      <th>Imentorn</th>\n",
       "      <td>8.730000</td>\n",
       "      <td>51.144286</td>\n",
       "      <td>11.1550</td>\n",
       "      <td>12.330000</td>\n",
       "    </tr>\n",
       "    <tr>\n",
       "      <th>Imgastron</th>\n",
       "      <td>12.023333</td>\n",
       "      <td>8.434286</td>\n",
       "      <td>7.7925</td>\n",
       "      <td>8.630000</td>\n",
       "    </tr>\n",
       "    <tr>\n",
       "      <th>Imcostviaje</th>\n",
       "      <td>17.533333</td>\n",
       "      <td>8.532857</td>\n",
       "      <td>17.5650</td>\n",
       "      <td>41.331429</td>\n",
       "    </tr>\n",
       "    <tr>\n",
       "      <th>Imvidanoct</th>\n",
       "      <td>11.950000</td>\n",
       "      <td>10.512857</td>\n",
       "      <td>42.8100</td>\n",
       "      <td>8.650000</td>\n",
       "    </tr>\n",
       "    <tr>\n",
       "      <th>Imalojamien</th>\n",
       "      <td>5.540000</td>\n",
       "      <td>7.574286</td>\n",
       "      <td>7.7075</td>\n",
       "      <td>9.981429</td>\n",
       "    </tr>\n",
       "    <tr>\n",
       "      <th>Imarte</th>\n",
       "      <td>33.776667</td>\n",
       "      <td>9.972857</td>\n",
       "      <td>12.9700</td>\n",
       "      <td>11.484286</td>\n",
       "    </tr>\n",
       "  </tbody>\n",
       "</table>\n",
       "</div>"
      ],
      "text/plain": [
       "             Cluster #                               \n",
       "                     0          1        2          3\n",
       "Attribute                                            \n",
       "Imentorn      8.730000  51.144286  11.1550  12.330000\n",
       "Imgastron    12.023333   8.434286   7.7925   8.630000\n",
       "Imcostviaje  17.533333   8.532857  17.5650  41.331429\n",
       "Imvidanoct   11.950000  10.512857  42.8100   8.650000\n",
       "Imalojamien   5.540000   7.574286   7.7075   9.981429\n",
       "Imarte       33.776667   9.972857  12.9700  11.484286"
      ]
     },
     "execution_count": 61,
     "metadata": {},
     "output_type": "execute_result"
    }
   ],
   "source": [
    "import pandas as pd\n",
    "centersdf = pd.DataFrame(data=centers, columns=fea)\n",
    "centersdf_transposed = centersdf.T\n",
    "centersdf_transposed.columns = pd.MultiIndex.from_arrays([['Cluster #']*len(centersdf_transposed.columns), centersdf_transposed.columns])\n",
    "centersdf_transposed.index.names = ['Attribute']\n",
    "centersdf_transposed"
   ]
  },
  {
   "cell_type": "code",
   "execution_count": 64,
   "metadata": {},
   "outputs": [],
   "source": [
    "centersdf_transposed.to_csv(\"centers.csv\")"
   ]
  },
  {
   "cell_type": "code",
   "execution_count": null,
   "metadata": {},
   "outputs": [],
   "source": []
  },
  {
   "cell_type": "code",
   "execution_count": 48,
   "metadata": {},
   "outputs": [
    {
     "data": {
      "text/plain": [
       "array([12.075     , 51.14428571, 10.58375   ])"
      ]
     },
     "execution_count": 48,
     "metadata": {},
     "output_type": "execute_result"
    }
   ],
   "source": [
    "centers[:,0]"
   ]
  },
  {
   "cell_type": "code",
   "execution_count": 49,
   "metadata": {},
   "outputs": [
    {
     "data": {
      "image/png": "[encoded data removed]",
      "text/plain": [
       "<Figure size 432x288 with 1 Axes>"
      ]
     },
     "metadata": {
      "needs_background": "light"
     },
     "output_type": "display_data"
    }
   ],
   "source": [
    "def plot(centers):\n",
    "    for i,c in enumerate(centers):\n",
    "        plt.plot(centers[i], '-o')\n",
    "    plt.title('Visualization of cluster centers data');\n",
    "    plt.show()\n",
    "plot(centers)"
   ]
  },
  {
   "cell_type": "code",
   "execution_count": 65,
   "metadata": {},
   "outputs": [
    {
     "name": "stdout",
     "output_type": "stream",
     "text": [
      "Within Set Sum of Squared Errors = 7697.628435714284\n"
     ]
    }
   ],
   "source": [
    "# Evaluate clustering by computing Within Set Sum of Squared Errors.\n",
    "wssse = model.computeCost(trainingData)\n",
    "print(\"Within Set Sum of Squared Errors = \"+ str(wssse))"
   ]
  },
  {
   "cell_type": "code",
   "execution_count": 51,
   "metadata": {},
   "outputs": [],
   "source": [
    "cost = np.zeros(10)\n",
    "for k in range(2,10):\n",
    "    kmeansf = KMeans(k=k, seed=1)  # k clusters here\n",
    "    modelf = kmeansf.fit(trainingData.select('features'))\n",
    "    cost[k] = modelf.computeCost(trainingData) # requires Spark 2.0 or later"
   ]
  },
  {
   "cell_type": "code",
   "execution_count": 52,
   "metadata": {},
   "outputs": [
    {
     "data": {
      "image/png": "[encoded data removed]",
      "text/plain": [
       "<Figure size 576x720 with 1 Axes>"
      ]
     },
     "metadata": {
      "needs_background": "light"
     },
     "output_type": "display_data"
    }
   ],
   "source": [
    "fig, ax = plt.subplots(1,1, figsize =(8,10))\n",
    "ax.plot(range(2,10),cost[2:10])\n",
    "ax.set_xlabel('k')\n",
    "ax.set_ylabel('cost')\n",
    "plt.show()"
   ]
  },
  {
   "cell_type": "code",
   "execution_count": 53,
   "metadata": {},
   "outputs": [],
   "source": [
    "# Make predictions\n",
    "predictions = model.transform(testData)"
   ]
  },
  {
   "cell_type": "code",
   "execution_count": 68,
   "metadata": {},
   "outputs": [
    {
     "data": {
      "text/html": [
       "<div>\n",
       "<style scoped>\n",
       "    .dataframe tbody tr th:only-of-type {\n",
       "        vertical-align: middle;\n",
       "    }\n",
       "\n",
       "    .dataframe tbody tr th {\n",
       "        vertical-align: top;\n",
       "    }\n",
       "\n",
       "    .dataframe thead th {\n",
       "        text-align: right;\n",
       "    }\n",
       "</style>\n",
       "<table border=\"1\" class=\"dataframe\">\n",
       "  <thead>\n",
       "    <tr style=\"text-align: right;\">\n",
       "      <th></th>\n",
       "      <th>Imentorn</th>\n",
       "      <th>Imgastron</th>\n",
       "      <th>Imcostviaje</th>\n",
       "      <th>Imvidanoct</th>\n",
       "      <th>Imalojamien</th>\n",
       "      <th>Imarte</th>\n",
       "      <th>features</th>\n",
       "      <th>prediction</th>\n",
       "    </tr>\n",
       "  </thead>\n",
       "  <tbody>\n",
       "    <tr>\n",
       "      <th>0</th>\n",
       "      <td>6.14</td>\n",
       "      <td>7.02</td>\n",
       "      <td>10.53</td>\n",
       "      <td>63.16</td>\n",
       "      <td>3.51</td>\n",
       "      <td>9.65</td>\n",
       "      <td>[6.14, 7.02, 10.53, 63.16, 3.51, 9.65]</td>\n",
       "      <td>0</td>\n",
       "    </tr>\n",
       "    <tr>\n",
       "      <th>1</th>\n",
       "      <td>7.38</td>\n",
       "      <td>1.17</td>\n",
       "      <td>16.23</td>\n",
       "      <td>60.12</td>\n",
       "      <td>4.23</td>\n",
       "      <td>12.50</td>\n",
       "      <td>[7.38, 1.17, 16.23, 60.12, 4.23, 12.5]</td>\n",
       "      <td>0</td>\n",
       "    </tr>\n",
       "    <tr>\n",
       "      <th>2</th>\n",
       "      <td>7.63</td>\n",
       "      <td>7.63</td>\n",
       "      <td>8.47</td>\n",
       "      <td>11.06</td>\n",
       "      <td>3.39</td>\n",
       "      <td>61.02</td>\n",
       "      <td>[7.63, 7.63, 8.47, 11.06, 3.39, 61.02]</td>\n",
       "      <td>2</td>\n",
       "    </tr>\n",
       "    <tr>\n",
       "      <th>3</th>\n",
       "      <td>11.18</td>\n",
       "      <td>3.29</td>\n",
       "      <td>21.71</td>\n",
       "      <td>26.32</td>\n",
       "      <td>13.16</td>\n",
       "      <td>24.34</td>\n",
       "      <td>[11.18, 3.29, 21.71, 26.32, 13.16, 24.34]</td>\n",
       "      <td>0</td>\n",
       "    </tr>\n",
       "    <tr>\n",
       "      <th>4</th>\n",
       "      <td>14.77</td>\n",
       "      <td>11.41</td>\n",
       "      <td>11.41</td>\n",
       "      <td>8.72</td>\n",
       "      <td>20.13</td>\n",
       "      <td>33.56</td>\n",
       "      <td>[14.77, 11.41, 11.41, 8.72, 20.13, 33.56]</td>\n",
       "      <td>2</td>\n",
       "    </tr>\n",
       "    <tr>\n",
       "      <th>5</th>\n",
       "      <td>22.72</td>\n",
       "      <td>6.32</td>\n",
       "      <td>46.18</td>\n",
       "      <td>21.52</td>\n",
       "      <td>10.76</td>\n",
       "      <td>25.32</td>\n",
       "      <td>[22.72, 6.32, 46.18, 21.52, 10.76, 25.32]</td>\n",
       "      <td>2</td>\n",
       "    </tr>\n",
       "    <tr>\n",
       "      <th>6</th>\n",
       "      <td>23.30</td>\n",
       "      <td>1.94</td>\n",
       "      <td>2.91</td>\n",
       "      <td>0.00</td>\n",
       "      <td>69.90</td>\n",
       "      <td>1.94</td>\n",
       "      <td>[23.3, 1.94, 2.91, 0.0, 69.9, 1.94]</td>\n",
       "      <td>1</td>\n",
       "    </tr>\n",
       "    <tr>\n",
       "      <th>7</th>\n",
       "      <td>28.76</td>\n",
       "      <td>17.65</td>\n",
       "      <td>25.49</td>\n",
       "      <td>6.54</td>\n",
       "      <td>5.88</td>\n",
       "      <td>15.69</td>\n",
       "      <td>[28.76, 17.65, 25.49, 6.54, 5.88, 15.69]</td>\n",
       "      <td>2</td>\n",
       "    </tr>\n",
       "    <tr>\n",
       "      <th>8</th>\n",
       "      <td>43.20</td>\n",
       "      <td>9.60</td>\n",
       "      <td>5.60</td>\n",
       "      <td>28.00</td>\n",
       "      <td>8.80</td>\n",
       "      <td>4.80</td>\n",
       "      <td>[43.2, 9.6, 5.6, 28.0, 8.8, 4.8]</td>\n",
       "      <td>1</td>\n",
       "    </tr>\n",
       "    <tr>\n",
       "      <th>9</th>\n",
       "      <td>44.00</td>\n",
       "      <td>5.60</td>\n",
       "      <td>15.20</td>\n",
       "      <td>4.00</td>\n",
       "      <td>12.00</td>\n",
       "      <td>19.20</td>\n",
       "      <td>[44.0, 5.6, 15.2, 4.0, 12.0, 19.2]</td>\n",
       "      <td>1</td>\n",
       "    </tr>\n",
       "  </tbody>\n",
       "</table>\n",
       "</div>"
      ],
      "text/plain": [
       "   Imentorn  Imgastron  Imcostviaje  Imvidanoct  Imalojamien  Imarte  \\\n",
       "0      6.14       7.02        10.53       63.16         3.51    9.65   \n",
       "1      7.38       1.17        16.23       60.12         4.23   12.50   \n",
       "2      7.63       7.63         8.47       11.06         3.39   61.02   \n",
       "3     11.18       3.29        21.71       26.32        13.16   24.34   \n",
       "4     14.77      11.41        11.41        8.72        20.13   33.56   \n",
       "5     22.72       6.32        46.18       21.52        10.76   25.32   \n",
       "6     23.30       1.94         2.91        0.00        69.90    1.94   \n",
       "7     28.76      17.65        25.49        6.54         5.88   15.69   \n",
       "8     43.20       9.60         5.60       28.00         8.80    4.80   \n",
       "9     44.00       5.60        15.20        4.00        12.00   19.20   \n",
       "\n",
       "                                    features  prediction  \n",
       "0     [6.14, 7.02, 10.53, 63.16, 3.51, 9.65]           0  \n",
       "1     [7.38, 1.17, 16.23, 60.12, 4.23, 12.5]           0  \n",
       "2     [7.63, 7.63, 8.47, 11.06, 3.39, 61.02]           2  \n",
       "3  [11.18, 3.29, 21.71, 26.32, 13.16, 24.34]           0  \n",
       "4  [14.77, 11.41, 11.41, 8.72, 20.13, 33.56]           2  \n",
       "5  [22.72, 6.32, 46.18, 21.52, 10.76, 25.32]           2  \n",
       "6        [23.3, 1.94, 2.91, 0.0, 69.9, 1.94]           1  \n",
       "7   [28.76, 17.65, 25.49, 6.54, 5.88, 15.69]           2  \n",
       "8           [43.2, 9.6, 5.6, 28.0, 8.8, 4.8]           1  \n",
       "9         [44.0, 5.6, 15.2, 4.0, 12.0, 19.2]           1  "
      ]
     },
     "execution_count": 68,
     "metadata": {},
     "output_type": "execute_result"
    }
   ],
   "source": [
    "predictions.toPandas()"
   ]
  },
  {
   "cell_type": "code",
   "execution_count": 54,
   "metadata": {},
   "outputs": [
    {
     "name": "stdout",
     "output_type": "stream",
     "text": [
      "Silhouette with squared euclidean distance = 0.23209996012720951\n"
     ]
    }
   ],
   "source": [
    "# Evaluate clustering by computing Silhouette score\n",
    "evaluator = ClusteringEvaluator()\n",
    "\n",
    "silhouette = evaluator.evaluate(predictions)\n",
    "print(\"Silhouette with squared euclidean distance = \" + str(silhouette))"
   ]
  },
  {
   "cell_type": "code",
   "execution_count": null,
   "metadata": {},
   "outputs": [],
   "source": []
  },
  {
   "cell_type": "code",
   "execution_count": 70,
   "metadata": {},
   "outputs": [
    {
     "data": {
      "text/plain": [
       "<seaborn.axisgrid.FacetGrid at 0x1bc2fc17e48>"
      ]
     },
     "execution_count": 70,
     "metadata": {},
     "output_type": "execute_result"
    },
    {
     "data": {
      "image/png": "[encoded data removed]",
      "text/plain": [
       "<Figure size 418.375x360 with 1 Axes>"
      ]
     },
     "metadata": {
      "needs_background": "light"
     },
     "output_type": "display_data"
    }
   ],
   "source": [
    "sns.lmplot(x='Imentorn',y='Imvidanoct',data=predictions.toPandas(),fit_reg=False,legend=True,scatter_kws={\"s\":80},hue='prediction') #"
   ]
  },
  {
   "cell_type": "code",
   "execution_count": null,
   "metadata": {},
   "outputs": [],
   "source": []
  }
 ],
 "metadata": {
  "kernelspec": {
   "display_name": "Python 3",
   "language": "python",
   "name": "python3"
  },
  "language_info": {
   "codemirror_mode": {
    "name": "ipython",
    "version": 3
   },
   "file_extension": ".py",
   "mimetype": "text/x-python",
   "name": "python",
   "nbconvert_exporter": "python",
   "pygments_lexer": "ipython3",
   "version": "3.7.6"
  }
 },
 "nbformat": 4,
 "nbformat_minor": 4
}
